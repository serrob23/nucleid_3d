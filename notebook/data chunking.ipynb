{
 "cells": [
  {
   "cell_type": "code",
   "execution_count": 6,
   "id": "irish-contributor",
   "metadata": {},
   "outputs": [],
   "source": [
    "import os\n",
    "import numpy as np\n",
    "import dask.array as da\n",
    "import h5py as h5\n",
    "%matplotlib notebook\n",
    "import matplotlib.pyplot as plt\n",
    "from utils.multi_slice_viewer import multi_slice_viewer\n",
    "from dask import delayed"
   ]
  },
  {
   "cell_type": "code",
   "execution_count": 2,
   "id": "nearby-bearing",
   "metadata": {},
   "outputs": [],
   "source": [
    "test_array = np.zeros([1025,2049,2049],dtype=np.uint0)\n"
   ]
  },
  {
   "cell_type": "code",
   "execution_count": 27,
   "id": "interesting-automation",
   "metadata": {},
   "outputs": [
    {
     "data": {
      "text/plain": [
       "(1025, 2049, 2049)"
      ]
     },
     "execution_count": 27,
     "metadata": {},
     "output_type": "execute_result"
    }
   ],
   "source": [
    "test_array.shape"
   ]
  },
  {
   "cell_type": "code",
   "execution_count": 32,
   "id": "fossil-history",
   "metadata": {},
   "outputs": [],
   "source": [
    "def getArrayCoords(array_shape, chunk_size=(512,1024,1024)):\n",
    "    coordset = {}\n",
    "    key_list = ['x_set', 'y_set', 'z_set']\n",
    "    for ar, ch, key in zip(array_shape, chunk_size, key_list):\n",
    "        print(ar,ch,ar//ch)\n",
    "        print(np.arange(0,ar,ch))\n",
    "        coordset[key] = np.arange(0,ar,ch)\n",
    "    \n",
    "    print(coordset)\n",
    "        \n",
    "    "
   ]
  },
  {
   "cell_type": "code",
   "execution_count": 34,
   "id": "cordless-alert",
   "metadata": {},
   "outputs": [
    {
     "name": "stdout",
     "output_type": "stream",
     "text": [
      "Collecting dask\n",
      "  Downloading dask-2021.5.0-py3-none-any.whl (960 kB)\n",
      "Collecting cloudpickle>=1.1.1\n",
      "  Downloading cloudpickle-1.6.0-py3-none-any.whl (23 kB)\n",
      "Collecting fsspec>=0.6.0\n",
      "  Downloading fsspec-2021.5.0-py3-none-any.whl (111 kB)\n",
      "Collecting partd>=0.3.10\n",
      "  Downloading partd-1.2.0-py3-none-any.whl (19 kB)\n",
      "Collecting toolz>=0.8.2\n",
      "  Downloading toolz-0.11.1-py3-none-any.whl (55 kB)\n",
      "Collecting locket\n",
      "  Downloading locket-0.2.1-py2.py3-none-any.whl (4.1 kB)\n",
      "Collecting pyyaml\n",
      "  Downloading PyYAML-5.4.1-cp37-cp37m-win_amd64.whl (210 kB)\n",
      "Installing collected packages: toolz, locket, pyyaml, partd, fsspec, cloudpickle, dask\n",
      "Successfully installed cloudpickle-1.6.0 dask-2021.5.0 fsspec-2021.5.0 locket-0.2.1 partd-1.2.0 pyyaml-5.4.1 toolz-0.11.1\n"
     ]
    }
   ],
   "source": [
    "!pip install dask"
   ]
  },
  {
   "cell_type": "code",
   "execution_count": 58,
   "id": "secret-orlando",
   "metadata": {},
   "outputs": [],
   "source": [
    "# data_arrays = []\n",
    "filepath = [\"T:/Rob/Nuclear Segmentation/Cancer Regions/S04B/region1_z_1230_3471.h5\"]\n",
    "\n",
    "\n",
    "f = delayed(h5.File)(filepath[0],'r')\n",
    "data = f['t00000/s00/0/cells']\n",
    "data_arrays=da.from_delayed(data, (512,512,512), dtype=np.uint16)"
   ]
  },
  {
   "cell_type": "code",
   "execution_count": 60,
   "id": "first-privilege",
   "metadata": {
    "scrolled": false
   },
   "outputs": [
    {
     "data": {
      "text/plain": [
       "512"
      ]
     },
     "execution_count": 60,
     "metadata": {},
     "output_type": "execute_result"
    }
   ],
   "source": [
    "len(data_arrays)"
   ]
  },
  {
   "cell_type": "code",
   "execution_count": 72,
   "id": "soviet-parish",
   "metadata": {
    "scrolled": false
   },
   "outputs": [],
   "source": [
    "f = h5.File(filepath[0],'r')\n",
    "data = da.from_array(f['t00000/s00/0/cells'], chunks='auto')"
   ]
  },
  {
   "cell_type": "code",
   "execution_count": 73,
   "id": "experimental-exhibit",
   "metadata": {},
   "outputs": [],
   "source": [
    "images = data.chunks"
   ]
  },
  {
   "cell_type": "code",
   "execution_count": 74,
   "id": "super-stick",
   "metadata": {},
   "outputs": [
    {
     "data": {
      "text/html": [
       "<table>\n",
       "<tr>\n",
       "<td>\n",
       "<table>\n",
       "  <thead>\n",
       "    <tr><td> </td><th> Array </th><th> Chunk </th></tr>\n",
       "  </thead>\n",
       "  <tbody>\n",
       "    <tr><th> Bytes </th><td> 13.70 GB </td> <td> 128.00 MB </td></tr>\n",
       "    <tr><th> Shape </th><td> (2242, 1462, 2090) </td> <td> (400, 400, 400) </td></tr>\n",
       "    <tr><th> Count </th><td> 145 Tasks </td><td> 144 Chunks </td></tr>\n",
       "    <tr><th> Type </th><td> int16 </td><td> numpy.ndarray </td></tr>\n",
       "  </tbody>\n",
       "</table>\n",
       "</td>\n",
       "<td>\n",
       "<svg width=\"242\" height=\"198\" style=\"stroke:rgb(0,0,0);stroke-width:1\" >\n",
       "\n",
       "  <!-- Horizontal lines -->\n",
       "  <line x1=\"10\" y1=\"0\" x2=\"80\" y2=\"70\" style=\"stroke-width:2\" />\n",
       "  <line x1=\"10\" y1=\"21\" x2=\"80\" y2=\"91\" />\n",
       "  <line x1=\"10\" y1=\"42\" x2=\"80\" y2=\"113\" />\n",
       "  <line x1=\"10\" y1=\"64\" x2=\"80\" y2=\"134\" />\n",
       "  <line x1=\"10\" y1=\"78\" x2=\"80\" y2=\"148\" style=\"stroke-width:2\" />\n",
       "\n",
       "  <!-- Vertical lines -->\n",
       "  <line x1=\"10\" y1=\"0\" x2=\"10\" y2=\"78\" style=\"stroke-width:2\" />\n",
       "  <line x1=\"22\" y1=\"12\" x2=\"22\" y2=\"90\" />\n",
       "  <line x1=\"35\" y1=\"25\" x2=\"35\" y2=\"103\" />\n",
       "  <line x1=\"47\" y1=\"37\" x2=\"47\" y2=\"116\" />\n",
       "  <line x1=\"60\" y1=\"50\" x2=\"60\" y2=\"128\" />\n",
       "  <line x1=\"72\" y1=\"62\" x2=\"72\" y2=\"141\" />\n",
       "  <line x1=\"80\" y1=\"70\" x2=\"80\" y2=\"148\" style=\"stroke-width:2\" />\n",
       "\n",
       "  <!-- Colored Rectangle -->\n",
       "  <polygon points=\"10.0,0.0 80.58823529411765,70.58823529411765 80.58823529411765,148.83979640027286 10.0,78.25156110615522\" style=\"fill:#ECB172A0;stroke-width:0\"/>\n",
       "\n",
       "  <!-- Horizontal lines -->\n",
       "  <line x1=\"10\" y1=\"0\" x2=\"121\" y2=\"0\" style=\"stroke-width:2\" />\n",
       "  <line x1=\"22\" y1=\"12\" x2=\"134\" y2=\"12\" />\n",
       "  <line x1=\"35\" y1=\"25\" x2=\"147\" y2=\"25\" />\n",
       "  <line x1=\"47\" y1=\"37\" x2=\"159\" y2=\"37\" />\n",
       "  <line x1=\"60\" y1=\"50\" x2=\"172\" y2=\"50\" />\n",
       "  <line x1=\"72\" y1=\"62\" x2=\"184\" y2=\"62\" />\n",
       "  <line x1=\"80\" y1=\"70\" x2=\"192\" y2=\"70\" style=\"stroke-width:2\" />\n",
       "\n",
       "  <!-- Vertical lines -->\n",
       "  <line x1=\"10\" y1=\"0\" x2=\"80\" y2=\"70\" style=\"stroke-width:2\" />\n",
       "  <line x1=\"31\" y1=\"0\" x2=\"101\" y2=\"70\" />\n",
       "  <line x1=\"52\" y1=\"0\" x2=\"123\" y2=\"70\" />\n",
       "  <line x1=\"74\" y1=\"0\" x2=\"144\" y2=\"70\" />\n",
       "  <line x1=\"95\" y1=\"0\" x2=\"166\" y2=\"70\" />\n",
       "  <line x1=\"117\" y1=\"0\" x2=\"187\" y2=\"70\" />\n",
       "  <line x1=\"121\" y1=\"0\" x2=\"192\" y2=\"70\" style=\"stroke-width:2\" />\n",
       "\n",
       "  <!-- Colored Rectangle -->\n",
       "  <polygon points=\"10.0,0.0 121.86440677966101,0.0 192.45264207377866,70.58823529411765 80.58823529411765,70.58823529411765\" style=\"fill:#ECB172A0;stroke-width:0\"/>\n",
       "\n",
       "  <!-- Horizontal lines -->\n",
       "  <line x1=\"80\" y1=\"70\" x2=\"192\" y2=\"70\" style=\"stroke-width:2\" />\n",
       "  <line x1=\"80\" y1=\"91\" x2=\"192\" y2=\"91\" />\n",
       "  <line x1=\"80\" y1=\"113\" x2=\"192\" y2=\"113\" />\n",
       "  <line x1=\"80\" y1=\"134\" x2=\"192\" y2=\"134\" />\n",
       "  <line x1=\"80\" y1=\"148\" x2=\"192\" y2=\"148\" style=\"stroke-width:2\" />\n",
       "\n",
       "  <!-- Vertical lines -->\n",
       "  <line x1=\"80\" y1=\"70\" x2=\"80\" y2=\"148\" style=\"stroke-width:2\" />\n",
       "  <line x1=\"101\" y1=\"70\" x2=\"101\" y2=\"148\" />\n",
       "  <line x1=\"123\" y1=\"70\" x2=\"123\" y2=\"148\" />\n",
       "  <line x1=\"144\" y1=\"70\" x2=\"144\" y2=\"148\" />\n",
       "  <line x1=\"166\" y1=\"70\" x2=\"166\" y2=\"148\" />\n",
       "  <line x1=\"187\" y1=\"70\" x2=\"187\" y2=\"148\" />\n",
       "  <line x1=\"192\" y1=\"70\" x2=\"192\" y2=\"148\" style=\"stroke-width:2\" />\n",
       "\n",
       "  <!-- Colored Rectangle -->\n",
       "  <polygon points=\"80.58823529411765,70.58823529411765 192.45264207377866,70.58823529411765 192.45264207377866,148.83979640027286 80.58823529411765,148.83979640027286\" style=\"fill:#ECB172A0;stroke-width:0\"/>\n",
       "\n",
       "  <!-- Text -->\n",
       "  <text x=\"136.520439\" y=\"168.839796\" font-size=\"1.0rem\" font-weight=\"100\" text-anchor=\"middle\" >2090</text>\n",
       "  <text x=\"212.452642\" y=\"109.714016\" font-size=\"1.0rem\" font-weight=\"100\" text-anchor=\"middle\" transform=\"rotate(-90,212.452642,109.714016)\">1462</text>\n",
       "  <text x=\"35.294118\" y=\"133.545679\" font-size=\"1.0rem\" font-weight=\"100\" text-anchor=\"middle\" transform=\"rotate(45,35.294118,133.545679)\">2242</text>\n",
       "</svg>\n",
       "</td>\n",
       "</tr>\n",
       "</table>"
      ],
      "text/plain": [
       "dask.array<array, shape=(2242, 1462, 2090), dtype=int16, chunksize=(400, 400, 400), chunktype=numpy.ndarray>"
      ]
     },
     "execution_count": 74,
     "metadata": {},
     "output_type": "execute_result"
    }
   ],
   "source": [
    "data"
   ]
  },
  {
   "cell_type": "code",
   "execution_count": null,
   "id": "according-boston",
   "metadata": {},
   "outputs": [],
   "source": []
  }
 ],
 "metadata": {
  "kernelspec": {
   "display_name": "Python 3",
   "language": "python",
   "name": "python3"
  },
  "language_info": {
   "codemirror_mode": {
    "name": "ipython",
    "version": 3
   },
   "file_extension": ".py",
   "mimetype": "text/x-python",
   "name": "python",
   "nbconvert_exporter": "python",
   "pygments_lexer": "ipython3",
   "version": "3.8.5"
  }
 },
 "nbformat": 4,
 "nbformat_minor": 5
}
